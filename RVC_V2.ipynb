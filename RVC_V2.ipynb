{
  "nbformat": 4,
  "nbformat_minor": 0,
  "metadata": {
    "colab": {
      "provenance": [],
      "collapsed_sections": [
        "IGw6GeU_X25k"
      ],
      "gpuType": "T4",
      "authorship_tag": "ABX9TyPWxA0JDz9iuANVuius9R18",
      "include_colab_link": true
    },
    "kernelspec": {
      "name": "python3",
      "display_name": "Python 3"
    },
    "language_info": {
      "name": "python"
    },
    "accelerator": "GPU"
  },
  "cells": [
    {
      "cell_type": "markdown",
      "metadata": {
        "id": "view-in-github",
        "colab_type": "text"
      },
      "source": [
        "<a href=\"https://colab.research.google.com/github/Blane187/RVC-notebook/blob/main/RVC_V2.ipynb\" target=\"_parent\"><img src=\"https://colab.research.google.com/assets/colab-badge.svg\" alt=\"Open In Colab\"/></a>"
      ]
    },
    {
      "cell_type": "markdown",
      "source": [
        "\n",
        "# RVC V2\n",
        "\n",
        "\n",
        "Simply click `Runtime` in the top navigation bar and `Run all`. Wait for the output of the final cell to show the public gradio url and click on it."
      ],
      "metadata": {
        "id": "IGw6GeU_X25k"
      }
    },
    {
      "cell_type": "code",
      "execution_count": null,
      "metadata": {
        "cellView": "form",
        "id": "WKNXF91OVVbL"
      },
      "outputs": [],
      "source": [
        "#@title clone repo\n",
        "!git clone https://github.com/CiDXT/RVC-EASY.git RVC\n",
        "%cd RVC"
      ]
    },
    {
      "cell_type": "code",
      "source": [
        "\n",
        "\n",
        "#@title install Dependencies\n",
        "\n",
        "\n",
        "import subprocess\n",
        "\n",
        "# Define the path to your requirements.txt file\n",
        "requirements_path = '/content/RVC/requirements.txt'\n",
        "\n",
        "# Use subprocess to execute the pip install command\n",
        "try:\n",
        "    subprocess.run(['pip', 'install', '-r', requirements_path], check=True)\n",
        "    subprocess.run(['pip', 'install', 'yt_dlp', 'ffmpeg'], check=True)\n",
        "    print(\"Dependencies installed successfully.\")\n",
        "except subprocess.CalledProcessError as e:\n",
        "    print(\"Error installing dependencies ❌\", e)"
      ],
      "metadata": {
        "cellView": "form",
        "id": "7NiIJGZvVmpv"
      },
      "execution_count": null,
      "outputs": []
    },
    {
      "cell_type": "code",
      "source": [
        "\n",
        "\n",
        "#@title download youtube acapella\n",
        "\n",
        "url = \"https://youtu.be/m9wXykNflyY?si=JpAL7MVKo9ha3LTC\" #@param {type:\"string\"}\n",
        "\n",
        "audio_name = \"asmalibrasi\" #@param {type:\"string\"}\n",
        "\n",
        "\n",
        "import yt_dlp\n",
        "import ffmpeg\n",
        "import sys\n",
        "\n",
        "ydl_opts = {\n",
        "     'format': 'bestaudio/best',\n",
        "  #   'outtmpl': 'output.%(ext)s',\n",
        "     'postprocessors': [{\n",
        "         'key': 'FFmpegExtractAudio',\n",
        "         'preferredcodec': 'wav',\n",
        "     }],\n",
        "     \"outtmpl\": f'audios/{audio_name}',  # this is where you can edit how you'd like the filenames to be formatted\n",
        " }\n",
        " def download_from_url(url):\n",
        "     ydl.download([url])\n",
        "     # stream = ffmpeg.input('output.m4a')\n",
        "     # stream = ffmpeg.output(stream, 'output.wav')\n",
        "\n",
        "\n",
        " with yt_dlp.YoutubeDL(ydl_opts) as ydl:\n",
        "\n",
        "       download_from_url(url)"
      ],
      "metadata": {
        "cellView": "form",
        "id": "S7rbjTD1Zof2"
      },
      "execution_count": null,
      "outputs": []
    },
    {
      "cell_type": "code",
      "source": [
        "#@title run web\n",
        "\n",
        "!python app.py"
      ],
      "metadata": {
        "cellView": "form",
        "id": "aKbO9ZJLVvl1"
      },
      "execution_count": null,
      "outputs": []
    }
  ]
}